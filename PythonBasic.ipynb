{
  "nbformat": 4,
  "nbformat_minor": 0,
  "metadata": {
    "colab": {
      "provenance": [],
      "collapsed_sections": [
        "Kyaw0XST08TG",
        "LlowOkFF7L7a",
        "mc8OSpbl8aZm",
        "bCV6bV3u8qEe",
        "z6zsxArm80oJ",
        "DZiksE2Q9Ddv",
        "A0b-Pcpx9W5y",
        "j377vClB9gu7",
        "LE8tCYUE9_QL",
        "1J_nO4wJ-jb5",
        "rHQGLJ-G-_kq",
        "Uv5RSmD6_Rbo",
        "FAJIXnpk_eMp",
        "3472Dck3_tQW",
        "azOl37X3_7fp",
        "lEYZQrT2AIH8"
      ]
    },
    "kernelspec": {
      "name": "python3",
      "display_name": "Python 3"
    },
    "language_info": {
      "name": "python"
    }
  },
  "cells": [
    {
      "cell_type": "markdown",
      "source": [
        "#Python Basic"
      ],
      "metadata": {
        "id": "Kyaw0XST08TG"
      }
    },
    {
      "cell_type": "markdown",
      "source": [
        "### Q1. What is Python, and why is it popular?\n",
        "  - Python is a high-level, interpreted programming language known for its clean syntax and readability. It's popular because it's beginner-friendly, supports multiple programming styles (like OOP and functional), and has a massive ecosystem of libraries for web development, data analysis, AI, and more.\n",
        "\n",
        "### Q2. What is an interpreter in Python?\n",
        "  - An interpreter is a program that reads and executes Python code line by line. Unlike compiled languages, Python doesn't need to be compiled before running, which makes development faster and easier to debug.\n",
        "\n",
        "### Q3. What are pre-defined keywords in Python?\n",
        "  - Pre-defined keywords are reserved words in Python that have special meanings. Examples include if, for, def, True, None, etc. These words are part of the language syntax and cannot be used for other purposes.\n",
        "\n",
        "### Q4. Can keywords be used as variable names?\n",
        "  - No, keywords cannot be used as variable names. Trying to do so will result in a syntax error because Python uses these words to define its structure and logic.\n",
        "\n",
        "### Q5. What is mutability in Python?\n",
        "  - Mutability refers to whether an object’s value can be changed after it is created. If it can be modified, it is called mutable; otherwise, it's immutable.\n",
        "\n",
        "### Q6. Why are lists mutable, but tuples are immutable?\n",
        "  - Lists are designed to hold data that might need to change, so they allow adding, removing, or changing items. Tuples, on the other hand, are used for fixed data, and Python locks them down to prevent accidental changes, making them immutable.\n",
        "\n",
        "### Q7. What is the difference between “==” and “is” operators in Python?\n",
        "  - `==` checks **if the values** of two variables are the same.\n",
        "`is` checks **if they point to the same object** in memory.\n",
        "\n",
        "### Q8. What are logical operators in Python?\n",
        "  - Logical operators are used to combine conditional statements:\n",
        "\n",
        "  - `and` returns True if **both** conditions are true\n",
        "\n",
        "  - `or` returns True if **at least one** is true\n",
        "\n",
        "  - `not` reverses the condition\n",
        "\n",
        "### Q9. What is type casting in Python?\n",
        "    - Type casting means converting a value from one data type to another, like turning a string into an integer using \"int()\".\n",
        "\n",
        "### Q10. What is the difference between implicit and explicit type casting?\n",
        "  - **Implicit** type casting is done automatically by Python e.g, `int + float` becomes `float`.\n",
        "**Explicit** casting is done manually by the programmer using functions like `int()`, `float()`, or `str()`.\n",
        "\n",
        "### Q11. What is the purpose of conditional statements in Python?\n",
        "  - Conditional statements `if`, `elif`, `else` allow the program to make decisions based on conditions. They help in controlling the flow of the program.\n",
        "\n",
        "### Q12. How does the `elif` statement work?\n",
        "  - `elif` stands for \"else if\". It checks another condition if the previous `if` was False. It comes between `if` and `else`, and helps avoid writing multiple nested `if` statements.\n",
        "\n",
        "### Q13. What is the difference between `for` and `while` loops?\n",
        "  - A `for` loop is used when you know **exactly how many times** you want to loop (e.g., through a list or range).\n",
        "A `while` loop is used when you want to loop **until a condition becomes False**, but you may not know how many times in advance.\n",
        "\n",
        "### Q14. Describe a scenario where a `while` loop is more suitable than a `for` loop.\n",
        "  - When you're waiting for a user to input a correct password, and you don’t know how many attempts they'll take."
      ],
      "metadata": {
        "id": "A4upm8iP0zE2"
      }
    },
    {
      "cell_type": "markdown",
      "source": [
        "# Practical Questions"
      ],
      "metadata": {
        "id": "5XERkD-105PV"
      }
    },
    {
      "cell_type": "markdown",
      "source": [
        "### Q1. Write a Python program to print \"Hello, World!.\n"
      ],
      "metadata": {
        "id": "LlowOkFF7L7a"
      }
    },
    {
      "cell_type": "code",
      "source": [
        " print(\"Hello, World!\")"
      ],
      "metadata": {
        "colab": {
          "base_uri": "https://localhost:8080/"
        },
        "id": "OWHvGZQF7fHY",
        "outputId": "84b41c5e-b1cc-4d70-95a5-f9a193d42309"
      },
      "execution_count": 5,
      "outputs": [
        {
          "output_type": "stream",
          "name": "stdout",
          "text": [
            "Hello, World!\n"
          ]
        }
      ]
    },
    {
      "cell_type": "markdown",
      "source": [
        "### Q2. Write a Python program that displays your name and age.\n",
        ""
      ],
      "metadata": {
        "id": "mc8OSpbl8aZm"
      }
    },
    {
      "cell_type": "code",
      "source": [
        "print(\"My name is Abhishek\")\n",
        "print(\"My age is 22 \")"
      ],
      "metadata": {
        "colab": {
          "base_uri": "https://localhost:8080/"
        },
        "id": "T73vMJzc8YmF",
        "outputId": "6cf761c9-63cb-40a6-b536-9a56484c1af9"
      },
      "execution_count": 6,
      "outputs": [
        {
          "output_type": "stream",
          "name": "stdout",
          "text": [
            "My name is Abhishek\n",
            "My age is 22 \n"
          ]
        }
      ]
    },
    {
      "cell_type": "markdown",
      "source": [
        "### Q3. Write code to print all the pre-defined keywords in Python using the keyword library.\n",
        ""
      ],
      "metadata": {
        "id": "bCV6bV3u8qEe"
      }
    },
    {
      "cell_type": "code",
      "source": [
        "import keyword\n",
        "print(\"Python Keywords:\")\n",
        "print(keyword.kwlist)"
      ],
      "metadata": {
        "colab": {
          "base_uri": "https://localhost:8080/"
        },
        "id": "jXHzwwPI8wbO",
        "outputId": "2e93f19d-f8ad-4cbc-9ced-c16fca7d3c04"
      },
      "execution_count": 7,
      "outputs": [
        {
          "output_type": "stream",
          "name": "stdout",
          "text": [
            "Python Keywords:\n",
            "['False', 'None', 'True', 'and', 'as', 'assert', 'async', 'await', 'break', 'class', 'continue', 'def', 'del', 'elif', 'else', 'except', 'finally', 'for', 'from', 'global', 'if', 'import', 'in', 'is', 'lambda', 'nonlocal', 'not', 'or', 'pass', 'raise', 'return', 'try', 'while', 'with', 'yield']\n"
          ]
        }
      ]
    },
    {
      "cell_type": "markdown",
      "source": [
        "### Q4. Write a program that checks if a given word is a Python keyword.\n",
        ""
      ],
      "metadata": {
        "id": "z6zsxArm80oJ"
      }
    },
    {
      "cell_type": "code",
      "source": [
        "import keyword\n",
        "word = \"keyyy\"\n",
        "if keyword.iskeyword(word):\n",
        "  print(\"Entered word is a keyword\")\n",
        "else:\n",
        "  print(\"Entered word is not a keyword\")"
      ],
      "metadata": {
        "colab": {
          "base_uri": "https://localhost:8080/"
        },
        "id": "DEjuo9Lw86WQ",
        "outputId": "21e2d71f-02b8-4f5c-e222-ed061b19304f"
      },
      "execution_count": 9,
      "outputs": [
        {
          "output_type": "stream",
          "name": "stdout",
          "text": [
            "Entered word is not a keyword\n"
          ]
        }
      ]
    },
    {
      "cell_type": "markdown",
      "source": [
        "### Q5. Create a list and tuple in Python, and demonstrate how attempting to change an element works differently for each.\n",
        ""
      ],
      "metadata": {
        "id": "DZiksE2Q9Ddv"
      }
    },
    {
      "cell_type": "code",
      "source": [
        "# List example\n",
        "my_list = [1, 2, 3]\n",
        "my_list[0] = 10\n",
        "print(\"List after change:\", my_list)\n",
        "# Tuple example\n",
        "my_tuple = (1, 2, 3)\n",
        "# This will cause an error\n",
        "my_tuple[0] = 10 #  Tuples can't be changed"
      ],
      "metadata": {
        "colab": {
          "base_uri": "https://localhost:8080/",
          "height": 193
        },
        "id": "75SjmBAn9O8V",
        "outputId": "dd5f201a-a1d5-4509-a690-e60e2a9dafb1"
      },
      "execution_count": 10,
      "outputs": [
        {
          "output_type": "stream",
          "name": "stdout",
          "text": [
            "List after change: [10, 2, 3]\n"
          ]
        },
        {
          "output_type": "error",
          "ename": "TypeError",
          "evalue": "'tuple' object does not support item assignment",
          "traceback": [
            "\u001b[0;31m---------------------------------------------------------------------------\u001b[0m",
            "\u001b[0;31mTypeError\u001b[0m                                 Traceback (most recent call last)",
            "\u001b[0;32m/tmp/ipython-input-10-2418135539.py\u001b[0m in \u001b[0;36m<cell line: 0>\u001b[0;34m()\u001b[0m\n\u001b[1;32m      6\u001b[0m \u001b[0mmy_tuple\u001b[0m \u001b[0;34m=\u001b[0m \u001b[0;34m(\u001b[0m\u001b[0;36m1\u001b[0m\u001b[0;34m,\u001b[0m \u001b[0;36m2\u001b[0m\u001b[0;34m,\u001b[0m \u001b[0;36m3\u001b[0m\u001b[0;34m)\u001b[0m\u001b[0;34m\u001b[0m\u001b[0;34m\u001b[0m\u001b[0m\n\u001b[1;32m      7\u001b[0m \u001b[0;31m# This will cause an error\u001b[0m\u001b[0;34m\u001b[0m\u001b[0;34m\u001b[0m\u001b[0m\n\u001b[0;32m----> 8\u001b[0;31m \u001b[0mmy_tuple\u001b[0m\u001b[0;34m[\u001b[0m\u001b[0;36m0\u001b[0m\u001b[0;34m]\u001b[0m \u001b[0;34m=\u001b[0m \u001b[0;36m10\u001b[0m \u001b[0;31m#  Tuples can't be changed\u001b[0m\u001b[0;34m\u001b[0m\u001b[0;34m\u001b[0m\u001b[0m\n\u001b[0m",
            "\u001b[0;31mTypeError\u001b[0m: 'tuple' object does not support item assignment"
          ]
        }
      ]
    },
    {
      "cell_type": "markdown",
      "source": [
        "### Q6. Write a function to demonstrate the behavior of mutable and immutable arguments.\n",
        ""
      ],
      "metadata": {
        "id": "A0b-Pcpx9W5y"
      }
    },
    {
      "cell_type": "code",
      "source": [
        "def change_values(x, my_list):\n",
        "  x = x + 5 # Trying to change an integer\n",
        "  my_list.append(100) # Changing a list\n",
        "  print(\"Inside function - x:\", x)\n",
        "  print(\"Inside function - my_list:\", my_list)\n",
        "\n",
        "# Immutable value\n",
        "a = 10\n",
        "# Mutable value\n",
        "b = [1, 2, 3]\n",
        "change_values(a, b)\n",
        "print(\"Outside function - a:\", a)\n",
        "print(\"Outside function - b:\", b)"
      ],
      "metadata": {
        "colab": {
          "base_uri": "https://localhost:8080/"
        },
        "id": "p99yv0A99clB",
        "outputId": "c5130c65-5ae6-4264-e9cb-ec8fbda2db90"
      },
      "execution_count": 13,
      "outputs": [
        {
          "output_type": "stream",
          "name": "stdout",
          "text": [
            "Inside function - x: 15\n",
            "Inside function - my_list: [1, 2, 3, 100]\n",
            "Outside function - a: 10\n",
            "Outside function - b: [1, 2, 3, 100]\n"
          ]
        }
      ]
    },
    {
      "cell_type": "markdown",
      "source": [
        "### Q7. Write a program that performs basic arithmetic operations on two user-input numbers.\n",
        ""
      ],
      "metadata": {
        "id": "j377vClB9gu7"
      }
    },
    {
      "cell_type": "code",
      "source": [
        "val1=int(input(\"Enter the first number: \"))\n",
        "val2=int(input(\"Enter the second number: \"))\n",
        "print(f\"{val1} + {val2} = {val1 + val2}\")\n",
        "print(f\"{val1} x {val2} = {val1 * val2}\")\n",
        "print(f\"{val1} / {val2} = {val1 / val2}\")\n",
        "print(f\"{val1}-{val2} = {val1-val2}\")"
      ],
      "metadata": {
        "colab": {
          "base_uri": "https://localhost:8080/",
          "height": 373
        },
        "id": "_cpMgcXO93_x",
        "outputId": "66c682f6-e195-4924-c2cf-79a3b6165ae9"
      },
      "execution_count": 15,
      "outputs": [
        {
          "output_type": "error",
          "ename": "KeyboardInterrupt",
          "evalue": "Interrupted by user",
          "traceback": [
            "\u001b[0;31m---------------------------------------------------------------------------\u001b[0m",
            "\u001b[0;31mKeyboardInterrupt\u001b[0m                         Traceback (most recent call last)",
            "\u001b[0;32m/tmp/ipython-input-15-2969373795.py\u001b[0m in \u001b[0;36m<cell line: 0>\u001b[0;34m()\u001b[0m\n\u001b[0;32m----> 1\u001b[0;31m \u001b[0mval1\u001b[0m\u001b[0;34m=\u001b[0m\u001b[0mint\u001b[0m\u001b[0;34m(\u001b[0m\u001b[0minput\u001b[0m\u001b[0;34m(\u001b[0m\u001b[0;34m\"Enter the first number: \"\u001b[0m\u001b[0;34m)\u001b[0m\u001b[0;34m)\u001b[0m\u001b[0;34m\u001b[0m\u001b[0;34m\u001b[0m\u001b[0m\n\u001b[0m\u001b[1;32m      2\u001b[0m \u001b[0mval2\u001b[0m\u001b[0;34m=\u001b[0m\u001b[0mint\u001b[0m\u001b[0;34m(\u001b[0m\u001b[0minput\u001b[0m\u001b[0;34m(\u001b[0m\u001b[0;34m\"Enter the second number: \"\u001b[0m\u001b[0;34m)\u001b[0m\u001b[0;34m)\u001b[0m\u001b[0;34m\u001b[0m\u001b[0;34m\u001b[0m\u001b[0m\n\u001b[1;32m      3\u001b[0m \u001b[0mprint\u001b[0m\u001b[0;34m(\u001b[0m\u001b[0;34mf\"{val1} + {val2} = {val1 + val2}\"\u001b[0m\u001b[0;34m)\u001b[0m\u001b[0;34m\u001b[0m\u001b[0;34m\u001b[0m\u001b[0m\n\u001b[1;32m      4\u001b[0m \u001b[0mprint\u001b[0m\u001b[0;34m(\u001b[0m\u001b[0;34mf\"{val1} x {val2} = {val1 * val2}\"\u001b[0m\u001b[0;34m)\u001b[0m\u001b[0;34m\u001b[0m\u001b[0;34m\u001b[0m\u001b[0m\n\u001b[1;32m      5\u001b[0m \u001b[0mprint\u001b[0m\u001b[0;34m(\u001b[0m\u001b[0;34mf\"{val1} / {val2} = {val1 / val2}\"\u001b[0m\u001b[0;34m)\u001b[0m\u001b[0;34m\u001b[0m\u001b[0;34m\u001b[0m\u001b[0m\n",
            "\u001b[0;32m/usr/local/lib/python3.11/dist-packages/ipykernel/kernelbase.py\u001b[0m in \u001b[0;36mraw_input\u001b[0;34m(self, prompt)\u001b[0m\n\u001b[1;32m   1175\u001b[0m                 \u001b[0;34m\"raw_input was called, but this frontend does not support input requests.\"\u001b[0m\u001b[0;34m\u001b[0m\u001b[0;34m\u001b[0m\u001b[0m\n\u001b[1;32m   1176\u001b[0m             )\n\u001b[0;32m-> 1177\u001b[0;31m         return self._input_request(\n\u001b[0m\u001b[1;32m   1178\u001b[0m             \u001b[0mstr\u001b[0m\u001b[0;34m(\u001b[0m\u001b[0mprompt\u001b[0m\u001b[0;34m)\u001b[0m\u001b[0;34m,\u001b[0m\u001b[0;34m\u001b[0m\u001b[0;34m\u001b[0m\u001b[0m\n\u001b[1;32m   1179\u001b[0m             \u001b[0mself\u001b[0m\u001b[0;34m.\u001b[0m\u001b[0m_parent_ident\u001b[0m\u001b[0;34m[\u001b[0m\u001b[0;34m\"shell\"\u001b[0m\u001b[0;34m]\u001b[0m\u001b[0;34m,\u001b[0m\u001b[0;34m\u001b[0m\u001b[0;34m\u001b[0m\u001b[0m\n",
            "\u001b[0;32m/usr/local/lib/python3.11/dist-packages/ipykernel/kernelbase.py\u001b[0m in \u001b[0;36m_input_request\u001b[0;34m(self, prompt, ident, parent, password)\u001b[0m\n\u001b[1;32m   1217\u001b[0m             \u001b[0;32mexcept\u001b[0m \u001b[0mKeyboardInterrupt\u001b[0m\u001b[0;34m:\u001b[0m\u001b[0;34m\u001b[0m\u001b[0;34m\u001b[0m\u001b[0m\n\u001b[1;32m   1218\u001b[0m                 \u001b[0;31m# re-raise KeyboardInterrupt, to truncate traceback\u001b[0m\u001b[0;34m\u001b[0m\u001b[0;34m\u001b[0m\u001b[0m\n\u001b[0;32m-> 1219\u001b[0;31m                 \u001b[0;32mraise\u001b[0m \u001b[0mKeyboardInterrupt\u001b[0m\u001b[0;34m(\u001b[0m\u001b[0;34m\"Interrupted by user\"\u001b[0m\u001b[0;34m)\u001b[0m \u001b[0;32mfrom\u001b[0m \u001b[0;32mNone\u001b[0m\u001b[0;34m\u001b[0m\u001b[0;34m\u001b[0m\u001b[0m\n\u001b[0m\u001b[1;32m   1220\u001b[0m             \u001b[0;32mexcept\u001b[0m \u001b[0mException\u001b[0m\u001b[0;34m:\u001b[0m\u001b[0;34m\u001b[0m\u001b[0;34m\u001b[0m\u001b[0m\n\u001b[1;32m   1221\u001b[0m                 \u001b[0mself\u001b[0m\u001b[0;34m.\u001b[0m\u001b[0mlog\u001b[0m\u001b[0;34m.\u001b[0m\u001b[0mwarning\u001b[0m\u001b[0;34m(\u001b[0m\u001b[0;34m\"Invalid Message:\"\u001b[0m\u001b[0;34m,\u001b[0m \u001b[0mexc_info\u001b[0m\u001b[0;34m=\u001b[0m\u001b[0;32mTrue\u001b[0m\u001b[0;34m)\u001b[0m\u001b[0;34m\u001b[0m\u001b[0;34m\u001b[0m\u001b[0m\n",
            "\u001b[0;31mKeyboardInterrupt\u001b[0m: Interrupted by user"
          ]
        }
      ]
    },
    {
      "cell_type": "markdown",
      "source": [
        "### Q8. Write a program to demonstrate the use of logical operators.\n",
        ""
      ],
      "metadata": {
        "id": "LE8tCYUE9_QL"
      }
    },
    {
      "cell_type": "code",
      "source": [
        "a = 10\n",
        "b = 5\n",
        "c = 15\n",
        "if a > b and c > a:\n",
        "  print(\"Both conditions are True \")\n",
        "if a > c or b < c:\n",
        "  print(\"At least one condition is True \")\n",
        "if not (a < b):\n",
        "  print(\"Condition is False, so 'not' makes it True\")"
      ],
      "metadata": {
        "colab": {
          "base_uri": "https://localhost:8080/"
        },
        "id": "GSbBLfWJ-G-1",
        "outputId": "fe2a6e54-e5d4-481e-aca1-f3c65ca235f6"
      },
      "execution_count": 17,
      "outputs": [
        {
          "output_type": "stream",
          "name": "stdout",
          "text": [
            "Both conditions are True \n",
            "At least one condition is True \n",
            "Condition is False, so 'not' makes it True\n"
          ]
        }
      ]
    },
    {
      "cell_type": "markdown",
      "source": [
        "###Write a Python program to convert user input from string to integer, float, and boolean types.\n"
      ],
      "metadata": {
        "id": "1J_nO4wJ-jb5"
      }
    },
    {
      "cell_type": "code",
      "source": [
        "# Get user input as a string\n",
        "user_input = input(\"Enter random number: \")\n",
        "# Convert to integer\n",
        "try:\n",
        "  int_value = int(user_input)\n",
        "  print(\"Integer:\", int_value)\n",
        "except ValueError:\n",
        "  print(\"Cannot convert to integer\")\n",
        "# Convert to float\n",
        "try:\n",
        "  float_value = float(user_input)\n",
        "  print(\"Float:\", float_value)\n",
        "except ValueError:\n",
        "  print(\"Cannot convert to float\")\n",
        "# Convert to boolean\n",
        "bool_value = bool(user_input)\n",
        "print(\"Boolean:\", bool_value)"
      ],
      "metadata": {
        "colab": {
          "base_uri": "https://localhost:8080/"
        },
        "id": "kBHj3y7z-qgf",
        "outputId": "6c7b5679-2bae-48e4-93bb-b3c96760f41b"
      },
      "execution_count": 18,
      "outputs": [
        {
          "output_type": "stream",
          "name": "stdout",
          "text": [
            "Enter something: sds\n",
            "Cannot convert to integer\n",
            "Cannot convert to float\n",
            "Boolean: True\n"
          ]
        }
      ]
    },
    {
      "cell_type": "markdown",
      "source": [
        "### Q10. Write code to demonstrate type casting with list elements.\n"
      ],
      "metadata": {
        "id": "rHQGLJ-G-_kq"
      }
    },
    {
      "cell_type": "code",
      "source": [
        "str_list = ['1', '2', '3']\n",
        "# Convert to integers\n",
        "int_list = []\n",
        "for item in str_list:\n",
        "  int_list.append(int(item))\n",
        "print(\"Original list (strings):\", str_list)\n",
        "print(\"Converted list (integers):\", int_list)"
      ],
      "metadata": {
        "colab": {
          "base_uri": "https://localhost:8080/"
        },
        "id": "q8Kh2yfN_K6f",
        "outputId": "859f07bd-f1e1-4ce4-cf44-1799a512fb93"
      },
      "execution_count": 19,
      "outputs": [
        {
          "output_type": "stream",
          "name": "stdout",
          "text": [
            "Original list (strings): ['1', '2', '3']\n",
            "Converted list (integers): [1, 2, 3]\n"
          ]
        }
      ]
    },
    {
      "cell_type": "markdown",
      "source": [
        "### Q11. Write a program that checks if a number is positive, negative, or zero.\n",
        ""
      ],
      "metadata": {
        "id": "Uv5RSmD6_Rbo"
      }
    },
    {
      "cell_type": "code",
      "source": [
        "num = int(input(\"Enter a number : \"))\n",
        "if(num <0):\n",
        "  print(\"Number is negative\")\n",
        "elif (num > 0):\n",
        "  print(\"Number is positive\")\n",
        "else:\n",
        "  print(\"Number is zero\")"
      ],
      "metadata": {
        "id": "h7aA1W2V_XIw"
      },
      "execution_count": null,
      "outputs": []
    },
    {
      "cell_type": "markdown",
      "source": [
        "### Q12. Write a for loop to print numbers from 1 to 10."
      ],
      "metadata": {
        "id": "FAJIXnpk_eMp"
      }
    },
    {
      "cell_type": "code",
      "source": [
        "for i in range (1, 11):\n",
        "  print(i)"
      ],
      "metadata": {
        "id": "yegJ7tNE_ntY"
      },
      "execution_count": null,
      "outputs": []
    },
    {
      "cell_type": "markdown",
      "source": [
        "### Q13. Write a Python program to find the sum of all even numbers between 1 and 50.\n"
      ],
      "metadata": {
        "id": "3472Dck3_tQW"
      }
    },
    {
      "cell_type": "code",
      "source": [
        "sum = 0\n",
        "for i in range (1, 51):\n",
        "  if(i %2 == 0):\n",
        "    sum = sum + i\n",
        "print(sum)"
      ],
      "metadata": {
        "id": "JefkBnso_zsP"
      },
      "execution_count": null,
      "outputs": []
    },
    {
      "cell_type": "markdown",
      "source": [
        "### Q14. Write a program to reverse a string using a while loop.\n",
        ""
      ],
      "metadata": {
        "id": "azOl37X3_7fp"
      }
    },
    {
      "cell_type": "code",
      "source": [
        "text = \"hello\"\n",
        "i = len(text)-1\n",
        "rev = \"\"\n",
        "while i >= 0:\n",
        "  rev = rev + text[i]\n",
        "  i = i-1\n",
        "print(rev)"
      ],
      "metadata": {
        "id": "-Ew7GjnbACRq"
      },
      "execution_count": null,
      "outputs": []
    },
    {
      "cell_type": "markdown",
      "source": [
        "### Q15.  Write a Python program to calculate the factorial of a number provided by the user using a while loop.\n",
        ""
      ],
      "metadata": {
        "id": "lEYZQrT2AIH8"
      }
    },
    {
      "cell_type": "code",
      "source": [
        "num = int(input(\"Enter a number: \"))\n",
        "for i in range (1,num+1):\n",
        "  i=i*i\n",
        "print(i)"
      ],
      "metadata": {
        "colab": {
          "base_uri": "https://localhost:8080/"
        },
        "id": "uygm4F6AAOz6",
        "outputId": "d98d9dea-5be3-419a-aaff-d487c5878232"
      },
      "execution_count": 20,
      "outputs": [
        {
          "output_type": "stream",
          "name": "stdout",
          "text": [
            "Enter a number: 5\n",
            "25\n"
          ]
        }
      ]
    }
  ]
}